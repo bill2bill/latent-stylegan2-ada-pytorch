{
 "cells": [
  {
   "cell_type": "markdown",
   "metadata": {},
   "source": [
    "# StyleGAN2Ada Experiments\n",
    "\n",
    "From:\n",
    "\n",
    "- https://github.com/NVlabs/stylegan2-ada-pytorch\n"
   ]
  },
  {
   "cell_type": "code",
   "execution_count": 8,
   "metadata": {},
   "outputs": [
    {
     "name": "stderr",
     "output_type": "stream",
     "text": [
      "The system cannot find the path specified.\n"
     ]
    }
   ],
   "source": [
    "!~\\AppData\\Local\\Programs\\Python\\Python39\\python.exe ./../train.py --outdir=./data/output --data=./data/256image --subset 1 --gpus=1"
   ]
  },
  {
   "cell_type": "code",
   "execution_count": 2,
   "metadata": {},
   "outputs": [
    {
     "name": "stdout",
     "output_type": "stream",
     "text": [
      "Already up to date.\n"
     ]
    }
   ],
   "source": [
    "# !cd ../latent-stylegan2-ada-pytorch\n",
    "# # !git pull\n",
    "# !python ./train.py --outdir=/data/imagefolder/stylegan2/output/2 --data=/data/ffhq/images256x256 --subset 100 --gpus=4"
   ]
  },
  {
   "cell_type": "code",
   "execution_count": 2,
   "metadata": {},
   "outputs": [
    {
     "data": {
      "text/plain": [
       "array([[1, 2, 3, 4]])"
      ]
     },
     "execution_count": 2,
     "metadata": {},
     "output_type": "execute_result"
    }
   ],
   "source": [
    "# import numpy as np\n",
    "# arr = np.array([1,2,3,4])\n",
    "\n",
    "# np.expand_dims(arr, 0)"
   ]
  },
  {
   "cell_type": "code",
   "execution_count": 6,
   "metadata": {},
   "outputs": [
    {
     "data": {
      "image/png": "[encoded data removed]",
      "text/plain": [
       "<PIL.PngImagePlugin.PngImageFile image mode=RGB size=256x3>"
      ]
     },
     "execution_count": 6,
     "metadata": {},
     "output_type": "execute_result"
    }
   ],
   "source": [
    "from PIL import Image\n",
    "\n",
    "path = '/data/imagefolder/stylegan2/output/2/00056-images256x256-subset1-auto4/fakes_init.png'\n",
    "\n",
    "Image.open(path)"
   ]
  },
  {
   "cell_type": "code",
   "execution_count": null,
   "metadata": {},
   "outputs": [],
   "source": []
  }
 ],
 "metadata": {
  "interpreter": {
   "hash": "259771fb0e24a764efce4fd955c0b099f3a7b4b1af73db6068fac1ad6a526fe6"
  },
  "kernelspec": {
   "display_name": "will py3",
   "language": "python",
   "name": "python3"
  },
  "language_info": {
   "codemirror_mode": {
    "name": "ipython",
    "version": 3
   },
   "file_extension": ".py",
   "mimetype": "text/x-python",
   "name": "python",
   "nbconvert_exporter": "python",
   "pygments_lexer": "ipython3",
   "version": "3.8.10"
  },
  "orig_nbformat": 4
 },
 "nbformat": 4,
 "nbformat_minor": 2
}
